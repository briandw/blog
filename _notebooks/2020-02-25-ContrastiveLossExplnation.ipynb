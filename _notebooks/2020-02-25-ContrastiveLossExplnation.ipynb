{
 "cells": [
  {
   "cell_type": "markdown",
   "metadata": {},
   "source": []
  },
  {
   "cell_type": "code",
   "execution_count": 3,
   "metadata": {},
   "outputs": [],
   "source": [
    "import numpy as np"
   ]
  },
  {
   "cell_type": "code",
   "execution_count": 4,
   "metadata": {},
   "outputs": [],
   "source": [
    "def norm_tensor(x):\n",
    "    x = np.array(x)\n",
    "    x = x/np.linalg.norm(x)\n",
    "    return torch.tensor(x)"
   ]
  },
  {
   "cell_type": "code",
   "execution_count": 5,
   "metadata": {},
   "outputs": [
    {
     "data": {
      "text/plain": [
       "(tensor([[1.0000, 0.0100, 0.0000]], dtype=torch.float64),\n",
       " tensor([[0.9998, 0.0200, 0.0000]], dtype=torch.float64),\n",
       " tensor([[0.5774, 0.5774, 0.5774]], dtype=torch.float64))"
      ]
     },
     "execution_count": 5,
     "metadata": {},
     "output_type": "execute_result"
    }
   ],
   "source": [
    "t = 0.07\n",
    "q = norm_tensor([[1.0, 0.01, 0.0]])\n",
    "k_p = norm_tensor([[1.0, 0.02, 0.]])\n",
    "k_neg = norm_tensor([[1, 1, 1]])\n",
    "q, k_p, k_neg"
   ]
  },
  {
   "cell_type": "code",
   "execution_count": 6,
   "metadata": {},
   "outputs": [],
   "source": [
    "pos = torch.mm(q, k_p.transpose(1,0))\n",
    "neg = torch.mm(q, k_neg.transpose(1,0))\n",
    "exp = torch.exp(pos/t) / torch.exp(neg/t)"
   ]
  },
  {
   "cell_type": "code",
   "execution_count": 7,
   "metadata": {},
   "outputs": [
    {
     "data": {
      "text/plain": [
       "(tensor([[1.0000]], dtype=torch.float64),\n",
       " tensor([[0.5831]], dtype=torch.float64),\n",
       " tensor([[385.7067]], dtype=torch.float64))"
      ]
     },
     "execution_count": 7,
     "metadata": {},
     "output_type": "execute_result"
    }
   ],
   "source": [
    "pos, neg, exp"
   ]
  },
  {
   "cell_type": "code",
   "execution_count": 8,
   "metadata": {},
   "outputs": [
    {
     "data": {
      "text/plain": [
       "(tensor([[1.0000, 0.5831]], dtype=torch.float64), tensor([0]))"
      ]
     },
     "execution_count": 8,
     "metadata": {},
     "output_type": "execute_result"
    }
   ],
   "source": [
    "logits = torch.cat((pos, neg), dim=1)\n",
    "indexes = torch.tensor([0])\n",
    "logits, indexes"
   ]
  },
  {
   "cell_type": "code",
   "execution_count": 9,
   "metadata": {},
   "outputs": [],
   "source": [
    "loss_func = torch.nn.CrossEntropyLoss()"
   ]
  },
  {
   "cell_type": "code",
   "execution_count": 10,
   "metadata": {},
   "outputs": [
    {
     "data": {
      "text/plain": [
       "tensor(0.0026, dtype=torch.float64)"
      ]
     },
     "execution_count": 10,
     "metadata": {},
     "output_type": "execute_result"
    }
   ],
   "source": [
    "loss_func(logits/t, indexes)"
   ]
  },
  {
   "cell_type": "code",
   "execution_count": 11,
   "metadata": {},
   "outputs": [
    {
     "data": {
      "text/plain": [
       "(tensor([[-0.2129, -0.2238, -1.1312, -0.1827, -0.0693],\n",
       "         [-1.4510, -0.6595,  0.0158,  0.0501,  2.1263],\n",
       "         [ 1.7401,  0.2533,  1.4138,  0.8179,  0.1051]], requires_grad=True),\n",
       " tensor([4, 2, 4]),\n",
       " tensor(2.1147, grad_fn=<NllLossBackward>))"
      ]
     },
     "execution_count": 11,
     "metadata": {},
     "output_type": "execute_result"
    }
   ],
   "source": [
    "loss_func = nn.CrossEntropyLoss()\n",
    "input = torch.randn(3, 5, requires_grad=True)\n",
    "target = torch.empty(3, dtype=torch.long).random_(5)\n",
    "output = loss_func(input, target)\n",
    "\n",
    "input, target, output"
   ]
  },
  {
   "cell_type": "code",
   "execution_count": 12,
   "metadata": {},
   "outputs": [
    {
     "data": {
      "text/plain": [
       "torch.Size([3, 5])"
      ]
     },
     "execution_count": 12,
     "metadata": {},
     "output_type": "execute_result"
    }
   ],
   "source": [
    "input.shape"
   ]
  },
  {
   "cell_type": "code",
   "execution_count": 13,
   "metadata": {},
   "outputs": [
    {
     "data": {
      "text/plain": [
       "tensor(7.2436)"
      ]
     },
     "execution_count": 13,
     "metadata": {},
     "output_type": "execute_result"
    }
   ],
   "source": [
    "q = torch.tensor([[0.1, 0.1, 0.1]])\n",
    "k = torch.tensor([[0.11, 0.11, 0.11]])\n",
    "K = torch.tensor([[0.9, 0.9, 0.9]]) * 2.0\n",
    "\n",
    "N = 1\n",
    "\n",
    "l_pos = torch.bmm(q.view(N,1,-1), k.view(N,-1,1))\n",
    "l_neg = torch.mm(q.view(N,-1), K.T)\n",
    "\n",
    "logits = torch.cat([l_pos.view(N, 1), l_neg], dim=1)\n",
    "\n",
    "labels = torch.zeros(N, dtype=torch.long)\n",
    "\n",
    "out = loss_func(logits/t, labels)\n",
    "out"
   ]
  },
  {
   "cell_type": "code",
   "execution_count": 2,
   "metadata": {},
   "outputs": [],
   "source": [
    "import numpy as np"
   ]
  },
  {
   "cell_type": "code",
   "execution_count": 24,
   "metadata": {},
   "outputs": [],
   "source": []
  },
  {
   "cell_type": "code",
   "execution_count": 49,
   "metadata": {},
   "outputs": [
    {
     "name": "stdout",
     "output_type": "stream",
     "text": [
      "[ 0.09149717  0.01994695 -0.99560554] [ 0.09266782  0.02104917 -0.99547456] [[ 0.09251575 -0.43929877  0.89356445]\n",
      " [-0.89571009 -0.42199601  0.14008142]\n",
      " [ 0.73074264  0.62512638 -0.27428489]\n",
      " [-0.19425023  0.86533893  0.46201233]\n",
      " [-0.07975241  0.97700619 -0.19773331]]\n"
     ]
    },
    {
     "data": {
      "text/plain": [
       "(0.9999986987795759,\n",
       " array([-0.88993546, -0.22983831,  0.35240981, -0.46049451,  0.20905556]))"
      ]
     },
     "execution_count": 49,
     "metadata": {},
     "output_type": "execute_result"
    }
   ],
   "source": [
    "def normalize(x):\n",
    "    return x/np.linalg.norm(x)\n",
    "\n",
    "feature_size = 3\n",
    "num_neg = 5\n",
    "p1 = np.random.normal(0, size=(feature_size))\n",
    "p2 = p1+0.001\n",
    "p1 = p1/np.linalg.norm(p1)\n",
    "p2 = p2/np.linalg.norm(p2)\n",
    "neg = np.random.normal(0, size=(num_neg, feature_size))\n",
    "for i in range(num_neg):\n",
    "    neg[i] = normalize(neg[i])\n",
    "print(p1, p2, neg)\n",
    "\n",
    "pos_dot = p1.dot(p2)\n",
    "neg_dot = np.zeros(num_neg)\n",
    "for i in range(num_neg):\n",
    "    neg_dot[i] = p1.dot(neg[i])\n",
    "    \n",
    "pos_dot, neg_dot"
   ]
  },
  {
   "cell_type": "code",
   "execution_count": 50,
   "metadata": {},
   "outputs": [
    {
     "data": {
      "text/plain": [
       "0.9999986987795759"
      ]
     },
     "execution_count": 50,
     "metadata": {},
     "output_type": "execute_result"
    }
   ],
   "source": [
    "p1.dot(p2)"
   ]
  },
  {
   "cell_type": "code",
   "execution_count": 64,
   "metadata": {},
   "outputs": [],
   "source": [
    "exp = np.exp(np.concatenate(([pos_dot], neg_distance))) \n",
    "softmax = exp/np.sum(exp)"
   ]
  },
  {
   "cell_type": "code",
   "execution_count": 66,
   "metadata": {},
   "outputs": [
    {
     "data": {
      "text/plain": [
       "0.8447170982995262"
      ]
     },
     "execution_count": 66,
     "metadata": {},
     "output_type": "execute_result"
    }
   ],
   "source": [
    "-np.log(softmax[0])"
   ]
  },
  {
   "cell_type": "code",
   "execution_count": 81,
   "metadata": {},
   "outputs": [],
   "source": [
    "t = 0.07\n",
    "logits = np.concatenate(([pos_dot], neg_distance))/t\n",
    "exp = np.exp(logits)\n",
    "loss = exp/np.sum(exp)"
   ]
  },
  {
   "cell_type": "code",
   "execution_count": 83,
   "metadata": {},
   "outputs": [
    {
     "data": {
      "text/plain": [
       "4.906935997142345e-05"
      ]
     },
     "execution_count": 83,
     "metadata": {},
     "output_type": "execute_result"
    }
   ],
   "source": [
    "- np.log(loss[0])"
   ]
  },
  {
   "cell_type": "code",
   "execution_count": null,
   "metadata": {},
   "outputs": [],
   "source": []
  }
 ],
 "metadata": {
  "kernelspec": {
   "display_name": "Python 3",
   "language": "python",
   "name": "python3"
  },
  "language_info": {
   "codemirror_mode": {
    "name": "ipython",
    "version": 3
   },
   "file_extension": ".py",
   "mimetype": "text/x-python",
   "name": "python",
   "nbconvert_exporter": "python",
   "pygments_lexer": "ipython3",
   "version": "3.7.4"
  }
 },
 "nbformat": 4,
 "nbformat_minor": 4
}
